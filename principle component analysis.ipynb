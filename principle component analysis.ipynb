{
  "nbformat": 4,
  "nbformat_minor": 0,
  "metadata": {
    "colab": {
      "provenance": []
    },
    "kernelspec": {
      "name": "python3",
      "display_name": "Python 3"
    },
    "language_info": {
      "name": "python"
    }
  },
  "cells": [
    {
      "cell_type": "code",
      "execution_count": 2,
      "metadata": {
        "id": "RWIcmih_rCwB"
      },
      "outputs": [],
      "source": [
        "import numpy as np # linear algebra\n",
        "import pandas as pd\n",
        "import matplotlib.pyplot as plt\n",
        "import seaborn as sns\n",
        "%matplotlib inline"
      ]
    },
    {
      "cell_type": "code",
      "source": [
        "df=pd.read_csv('data.csv') #Replace it with your path where the data file is stored\n",
        "df.head()"
      ],
      "metadata": {
        "colab": {
          "base_uri": "https://localhost:8080/",
          "height": 206
        },
        "id": "AC3w0Jr1r3Op",
        "outputId": "41e16edf-1c37-46e8-8f66-b2c845a9209e"
      },
      "execution_count": 4,
      "outputs": [
        {
          "output_type": "execute_result",
          "data": {
            "text/plain": [
              "   number_people                       date  timestamp  day_of_week  \\\n",
              "0             37  2015-08-14 17:00:11-07:00      61211            4   \n",
              "1             45  2015-08-14 17:20:14-07:00      62414            4   \n",
              "2             40  2015-08-14 17:30:15-07:00      63015            4   \n",
              "3             44  2015-08-14 17:40:16-07:00      63616            4   \n",
              "4             45  2015-08-14 17:50:17-07:00      64217            4   \n",
              "\n",
              "   is_weekend  is_holiday  temperature  is_start_of_semester  \\\n",
              "0           0           0        71.76                     0   \n",
              "1           0           0        71.76                     0   \n",
              "2           0           0        71.76                     0   \n",
              "3           0           0        71.76                     0   \n",
              "4           0           0        71.76                     0   \n",
              "\n",
              "   is_during_semester  month  hour  \n",
              "0                   0      8    17  \n",
              "1                   0      8    17  \n",
              "2                   0      8    17  \n",
              "3                   0      8    17  \n",
              "4                   0      8    17  "
            ],
            "text/html": [
              "\n",
              "  <div id=\"df-2b1c82ba-5671-4bf8-8c04-718b299e6496\">\n",
              "    <div class=\"colab-df-container\">\n",
              "      <div>\n",
              "<style scoped>\n",
              "    .dataframe tbody tr th:only-of-type {\n",
              "        vertical-align: middle;\n",
              "    }\n",
              "\n",
              "    .dataframe tbody tr th {\n",
              "        vertical-align: top;\n",
              "    }\n",
              "\n",
              "    .dataframe thead th {\n",
              "        text-align: right;\n",
              "    }\n",
              "</style>\n",
              "<table border=\"1\" class=\"dataframe\">\n",
              "  <thead>\n",
              "    <tr style=\"text-align: right;\">\n",
              "      <th></th>\n",
              "      <th>number_people</th>\n",
              "      <th>date</th>\n",
              "      <th>timestamp</th>\n",
              "      <th>day_of_week</th>\n",
              "      <th>is_weekend</th>\n",
              "      <th>is_holiday</th>\n",
              "      <th>temperature</th>\n",
              "      <th>is_start_of_semester</th>\n",
              "      <th>is_during_semester</th>\n",
              "      <th>month</th>\n",
              "      <th>hour</th>\n",
              "    </tr>\n",
              "  </thead>\n",
              "  <tbody>\n",
              "    <tr>\n",
              "      <th>0</th>\n",
              "      <td>37</td>\n",
              "      <td>2015-08-14 17:00:11-07:00</td>\n",
              "      <td>61211</td>\n",
              "      <td>4</td>\n",
              "      <td>0</td>\n",
              "      <td>0</td>\n",
              "      <td>71.76</td>\n",
              "      <td>0</td>\n",
              "      <td>0</td>\n",
              "      <td>8</td>\n",
              "      <td>17</td>\n",
              "    </tr>\n",
              "    <tr>\n",
              "      <th>1</th>\n",
              "      <td>45</td>\n",
              "      <td>2015-08-14 17:20:14-07:00</td>\n",
              "      <td>62414</td>\n",
              "      <td>4</td>\n",
              "      <td>0</td>\n",
              "      <td>0</td>\n",
              "      <td>71.76</td>\n",
              "      <td>0</td>\n",
              "      <td>0</td>\n",
              "      <td>8</td>\n",
              "      <td>17</td>\n",
              "    </tr>\n",
              "    <tr>\n",
              "      <th>2</th>\n",
              "      <td>40</td>\n",
              "      <td>2015-08-14 17:30:15-07:00</td>\n",
              "      <td>63015</td>\n",
              "      <td>4</td>\n",
              "      <td>0</td>\n",
              "      <td>0</td>\n",
              "      <td>71.76</td>\n",
              "      <td>0</td>\n",
              "      <td>0</td>\n",
              "      <td>8</td>\n",
              "      <td>17</td>\n",
              "    </tr>\n",
              "    <tr>\n",
              "      <th>3</th>\n",
              "      <td>44</td>\n",
              "      <td>2015-08-14 17:40:16-07:00</td>\n",
              "      <td>63616</td>\n",
              "      <td>4</td>\n",
              "      <td>0</td>\n",
              "      <td>0</td>\n",
              "      <td>71.76</td>\n",
              "      <td>0</td>\n",
              "      <td>0</td>\n",
              "      <td>8</td>\n",
              "      <td>17</td>\n",
              "    </tr>\n",
              "    <tr>\n",
              "      <th>4</th>\n",
              "      <td>45</td>\n",
              "      <td>2015-08-14 17:50:17-07:00</td>\n",
              "      <td>64217</td>\n",
              "      <td>4</td>\n",
              "      <td>0</td>\n",
              "      <td>0</td>\n",
              "      <td>71.76</td>\n",
              "      <td>0</td>\n",
              "      <td>0</td>\n",
              "      <td>8</td>\n",
              "      <td>17</td>\n",
              "    </tr>\n",
              "  </tbody>\n",
              "</table>\n",
              "</div>\n",
              "      <button class=\"colab-df-convert\" onclick=\"convertToInteractive('df-2b1c82ba-5671-4bf8-8c04-718b299e6496')\"\n",
              "              title=\"Convert this dataframe to an interactive table.\"\n",
              "              style=\"display:none;\">\n",
              "        \n",
              "  <svg xmlns=\"http://www.w3.org/2000/svg\" height=\"24px\"viewBox=\"0 0 24 24\"\n",
              "       width=\"24px\">\n",
              "    <path d=\"M0 0h24v24H0V0z\" fill=\"none\"/>\n",
              "    <path d=\"M18.56 5.44l.94 2.06.94-2.06 2.06-.94-2.06-.94-.94-2.06-.94 2.06-2.06.94zm-11 1L8.5 8.5l.94-2.06 2.06-.94-2.06-.94L8.5 2.5l-.94 2.06-2.06.94zm10 10l.94 2.06.94-2.06 2.06-.94-2.06-.94-.94-2.06-.94 2.06-2.06.94z\"/><path d=\"M17.41 7.96l-1.37-1.37c-.4-.4-.92-.59-1.43-.59-.52 0-1.04.2-1.43.59L10.3 9.45l-7.72 7.72c-.78.78-.78 2.05 0 2.83L4 21.41c.39.39.9.59 1.41.59.51 0 1.02-.2 1.41-.59l7.78-7.78 2.81-2.81c.8-.78.8-2.07 0-2.86zM5.41 20L4 18.59l7.72-7.72 1.47 1.35L5.41 20z\"/>\n",
              "  </svg>\n",
              "      </button>\n",
              "      \n",
              "  <style>\n",
              "    .colab-df-container {\n",
              "      display:flex;\n",
              "      flex-wrap:wrap;\n",
              "      gap: 12px;\n",
              "    }\n",
              "\n",
              "    .colab-df-convert {\n",
              "      background-color: #E8F0FE;\n",
              "      border: none;\n",
              "      border-radius: 50%;\n",
              "      cursor: pointer;\n",
              "      display: none;\n",
              "      fill: #1967D2;\n",
              "      height: 32px;\n",
              "      padding: 0 0 0 0;\n",
              "      width: 32px;\n",
              "    }\n",
              "\n",
              "    .colab-df-convert:hover {\n",
              "      background-color: #E2EBFA;\n",
              "      box-shadow: 0px 1px 2px rgba(60, 64, 67, 0.3), 0px 1px 3px 1px rgba(60, 64, 67, 0.15);\n",
              "      fill: #174EA6;\n",
              "    }\n",
              "\n",
              "    [theme=dark] .colab-df-convert {\n",
              "      background-color: #3B4455;\n",
              "      fill: #D2E3FC;\n",
              "    }\n",
              "\n",
              "    [theme=dark] .colab-df-convert:hover {\n",
              "      background-color: #434B5C;\n",
              "      box-shadow: 0px 1px 3px 1px rgba(0, 0, 0, 0.15);\n",
              "      filter: drop-shadow(0px 1px 2px rgba(0, 0, 0, 0.3));\n",
              "      fill: #FFFFFF;\n",
              "    }\n",
              "  </style>\n",
              "\n",
              "      <script>\n",
              "        const buttonEl =\n",
              "          document.querySelector('#df-2b1c82ba-5671-4bf8-8c04-718b299e6496 button.colab-df-convert');\n",
              "        buttonEl.style.display =\n",
              "          google.colab.kernel.accessAllowed ? 'block' : 'none';\n",
              "\n",
              "        async function convertToInteractive(key) {\n",
              "          const element = document.querySelector('#df-2b1c82ba-5671-4bf8-8c04-718b299e6496');\n",
              "          const dataTable =\n",
              "            await google.colab.kernel.invokeFunction('convertToInteractive',\n",
              "                                                     [key], {});\n",
              "          if (!dataTable) return;\n",
              "\n",
              "          const docLinkHtml = 'Like what you see? Visit the ' +\n",
              "            '<a target=\"_blank\" href=https://colab.research.google.com/notebooks/data_table.ipynb>data table notebook</a>'\n",
              "            + ' to learn more about interactive tables.';\n",
              "          element.innerHTML = '';\n",
              "          dataTable['output_type'] = 'display_data';\n",
              "          await google.colab.output.renderOutput(dataTable, element);\n",
              "          const docLink = document.createElement('div');\n",
              "          docLink.innerHTML = docLinkHtml;\n",
              "          element.appendChild(docLink);\n",
              "        }\n",
              "      </script>\n",
              "    </div>\n",
              "  </div>\n",
              "  "
            ]
          },
          "metadata": {},
          "execution_count": 4
        }
      ]
    },
    {
      "cell_type": "code",
      "source": [
        "df.describe()"
      ],
      "metadata": {
        "colab": {
          "base_uri": "https://localhost:8080/",
          "height": 300
        },
        "id": "lf7AF69Bt2RD",
        "outputId": "fa926578-2747-4eeb-df81-f4c4a8bd28f3"
      },
      "execution_count": 5,
      "outputs": [
        {
          "output_type": "execute_result",
          "data": {
            "text/plain": [
              "       number_people     timestamp   day_of_week    is_weekend    is_holiday  \\\n",
              "count   62184.000000  62184.000000  62184.000000  62184.000000  62184.000000   \n",
              "mean       29.072543  45799.437958      2.982504      0.282870      0.002573   \n",
              "std        22.689026  24211.275891      1.996825      0.450398      0.050660   \n",
              "min         0.000000      0.000000      0.000000      0.000000      0.000000   \n",
              "25%         9.000000  26624.000000      1.000000      0.000000      0.000000   \n",
              "50%        28.000000  46522.500000      3.000000      0.000000      0.000000   \n",
              "75%        43.000000  66612.000000      5.000000      1.000000      0.000000   \n",
              "max       145.000000  86399.000000      6.000000      1.000000      1.000000   \n",
              "\n",
              "        temperature  is_start_of_semester  is_during_semester         month  \\\n",
              "count  62184.000000          62184.000000        62184.000000  62184.000000   \n",
              "mean      58.557108              0.078831            0.660218      7.439824   \n",
              "std        6.316396              0.269476            0.473639      3.445069   \n",
              "min       38.140000              0.000000            0.000000      1.000000   \n",
              "25%       55.000000              0.000000            0.000000      5.000000   \n",
              "50%       58.340000              0.000000            1.000000      8.000000   \n",
              "75%       62.280000              0.000000            1.000000     10.000000   \n",
              "max       87.170000              1.000000            1.000000     12.000000   \n",
              "\n",
              "               hour  \n",
              "count  62184.000000  \n",
              "mean      12.236460  \n",
              "std        6.717631  \n",
              "min        0.000000  \n",
              "25%        7.000000  \n",
              "50%       12.000000  \n",
              "75%       18.000000  \n",
              "max       23.000000  "
            ],
            "text/html": [
              "\n",
              "  <div id=\"df-bec4e3fd-00b8-4780-a8dc-91243ec89305\">\n",
              "    <div class=\"colab-df-container\">\n",
              "      <div>\n",
              "<style scoped>\n",
              "    .dataframe tbody tr th:only-of-type {\n",
              "        vertical-align: middle;\n",
              "    }\n",
              "\n",
              "    .dataframe tbody tr th {\n",
              "        vertical-align: top;\n",
              "    }\n",
              "\n",
              "    .dataframe thead th {\n",
              "        text-align: right;\n",
              "    }\n",
              "</style>\n",
              "<table border=\"1\" class=\"dataframe\">\n",
              "  <thead>\n",
              "    <tr style=\"text-align: right;\">\n",
              "      <th></th>\n",
              "      <th>number_people</th>\n",
              "      <th>timestamp</th>\n",
              "      <th>day_of_week</th>\n",
              "      <th>is_weekend</th>\n",
              "      <th>is_holiday</th>\n",
              "      <th>temperature</th>\n",
              "      <th>is_start_of_semester</th>\n",
              "      <th>is_during_semester</th>\n",
              "      <th>month</th>\n",
              "      <th>hour</th>\n",
              "    </tr>\n",
              "  </thead>\n",
              "  <tbody>\n",
              "    <tr>\n",
              "      <th>count</th>\n",
              "      <td>62184.000000</td>\n",
              "      <td>62184.000000</td>\n",
              "      <td>62184.000000</td>\n",
              "      <td>62184.000000</td>\n",
              "      <td>62184.000000</td>\n",
              "      <td>62184.000000</td>\n",
              "      <td>62184.000000</td>\n",
              "      <td>62184.000000</td>\n",
              "      <td>62184.000000</td>\n",
              "      <td>62184.000000</td>\n",
              "    </tr>\n",
              "    <tr>\n",
              "      <th>mean</th>\n",
              "      <td>29.072543</td>\n",
              "      <td>45799.437958</td>\n",
              "      <td>2.982504</td>\n",
              "      <td>0.282870</td>\n",
              "      <td>0.002573</td>\n",
              "      <td>58.557108</td>\n",
              "      <td>0.078831</td>\n",
              "      <td>0.660218</td>\n",
              "      <td>7.439824</td>\n",
              "      <td>12.236460</td>\n",
              "    </tr>\n",
              "    <tr>\n",
              "      <th>std</th>\n",
              "      <td>22.689026</td>\n",
              "      <td>24211.275891</td>\n",
              "      <td>1.996825</td>\n",
              "      <td>0.450398</td>\n",
              "      <td>0.050660</td>\n",
              "      <td>6.316396</td>\n",
              "      <td>0.269476</td>\n",
              "      <td>0.473639</td>\n",
              "      <td>3.445069</td>\n",
              "      <td>6.717631</td>\n",
              "    </tr>\n",
              "    <tr>\n",
              "      <th>min</th>\n",
              "      <td>0.000000</td>\n",
              "      <td>0.000000</td>\n",
              "      <td>0.000000</td>\n",
              "      <td>0.000000</td>\n",
              "      <td>0.000000</td>\n",
              "      <td>38.140000</td>\n",
              "      <td>0.000000</td>\n",
              "      <td>0.000000</td>\n",
              "      <td>1.000000</td>\n",
              "      <td>0.000000</td>\n",
              "    </tr>\n",
              "    <tr>\n",
              "      <th>25%</th>\n",
              "      <td>9.000000</td>\n",
              "      <td>26624.000000</td>\n",
              "      <td>1.000000</td>\n",
              "      <td>0.000000</td>\n",
              "      <td>0.000000</td>\n",
              "      <td>55.000000</td>\n",
              "      <td>0.000000</td>\n",
              "      <td>0.000000</td>\n",
              "      <td>5.000000</td>\n",
              "      <td>7.000000</td>\n",
              "    </tr>\n",
              "    <tr>\n",
              "      <th>50%</th>\n",
              "      <td>28.000000</td>\n",
              "      <td>46522.500000</td>\n",
              "      <td>3.000000</td>\n",
              "      <td>0.000000</td>\n",
              "      <td>0.000000</td>\n",
              "      <td>58.340000</td>\n",
              "      <td>0.000000</td>\n",
              "      <td>1.000000</td>\n",
              "      <td>8.000000</td>\n",
              "      <td>12.000000</td>\n",
              "    </tr>\n",
              "    <tr>\n",
              "      <th>75%</th>\n",
              "      <td>43.000000</td>\n",
              "      <td>66612.000000</td>\n",
              "      <td>5.000000</td>\n",
              "      <td>1.000000</td>\n",
              "      <td>0.000000</td>\n",
              "      <td>62.280000</td>\n",
              "      <td>0.000000</td>\n",
              "      <td>1.000000</td>\n",
              "      <td>10.000000</td>\n",
              "      <td>18.000000</td>\n",
              "    </tr>\n",
              "    <tr>\n",
              "      <th>max</th>\n",
              "      <td>145.000000</td>\n",
              "      <td>86399.000000</td>\n",
              "      <td>6.000000</td>\n",
              "      <td>1.000000</td>\n",
              "      <td>1.000000</td>\n",
              "      <td>87.170000</td>\n",
              "      <td>1.000000</td>\n",
              "      <td>1.000000</td>\n",
              "      <td>12.000000</td>\n",
              "      <td>23.000000</td>\n",
              "    </tr>\n",
              "  </tbody>\n",
              "</table>\n",
              "</div>\n",
              "      <button class=\"colab-df-convert\" onclick=\"convertToInteractive('df-bec4e3fd-00b8-4780-a8dc-91243ec89305')\"\n",
              "              title=\"Convert this dataframe to an interactive table.\"\n",
              "              style=\"display:none;\">\n",
              "        \n",
              "  <svg xmlns=\"http://www.w3.org/2000/svg\" height=\"24px\"viewBox=\"0 0 24 24\"\n",
              "       width=\"24px\">\n",
              "    <path d=\"M0 0h24v24H0V0z\" fill=\"none\"/>\n",
              "    <path d=\"M18.56 5.44l.94 2.06.94-2.06 2.06-.94-2.06-.94-.94-2.06-.94 2.06-2.06.94zm-11 1L8.5 8.5l.94-2.06 2.06-.94-2.06-.94L8.5 2.5l-.94 2.06-2.06.94zm10 10l.94 2.06.94-2.06 2.06-.94-2.06-.94-.94-2.06-.94 2.06-2.06.94z\"/><path d=\"M17.41 7.96l-1.37-1.37c-.4-.4-.92-.59-1.43-.59-.52 0-1.04.2-1.43.59L10.3 9.45l-7.72 7.72c-.78.78-.78 2.05 0 2.83L4 21.41c.39.39.9.59 1.41.59.51 0 1.02-.2 1.41-.59l7.78-7.78 2.81-2.81c.8-.78.8-2.07 0-2.86zM5.41 20L4 18.59l7.72-7.72 1.47 1.35L5.41 20z\"/>\n",
              "  </svg>\n",
              "      </button>\n",
              "      \n",
              "  <style>\n",
              "    .colab-df-container {\n",
              "      display:flex;\n",
              "      flex-wrap:wrap;\n",
              "      gap: 12px;\n",
              "    }\n",
              "\n",
              "    .colab-df-convert {\n",
              "      background-color: #E8F0FE;\n",
              "      border: none;\n",
              "      border-radius: 50%;\n",
              "      cursor: pointer;\n",
              "      display: none;\n",
              "      fill: #1967D2;\n",
              "      height: 32px;\n",
              "      padding: 0 0 0 0;\n",
              "      width: 32px;\n",
              "    }\n",
              "\n",
              "    .colab-df-convert:hover {\n",
              "      background-color: #E2EBFA;\n",
              "      box-shadow: 0px 1px 2px rgba(60, 64, 67, 0.3), 0px 1px 3px 1px rgba(60, 64, 67, 0.15);\n",
              "      fill: #174EA6;\n",
              "    }\n",
              "\n",
              "    [theme=dark] .colab-df-convert {\n",
              "      background-color: #3B4455;\n",
              "      fill: #D2E3FC;\n",
              "    }\n",
              "\n",
              "    [theme=dark] .colab-df-convert:hover {\n",
              "      background-color: #434B5C;\n",
              "      box-shadow: 0px 1px 3px 1px rgba(0, 0, 0, 0.15);\n",
              "      filter: drop-shadow(0px 1px 2px rgba(0, 0, 0, 0.3));\n",
              "      fill: #FFFFFF;\n",
              "    }\n",
              "  </style>\n",
              "\n",
              "      <script>\n",
              "        const buttonEl =\n",
              "          document.querySelector('#df-bec4e3fd-00b8-4780-a8dc-91243ec89305 button.colab-df-convert');\n",
              "        buttonEl.style.display =\n",
              "          google.colab.kernel.accessAllowed ? 'block' : 'none';\n",
              "\n",
              "        async function convertToInteractive(key) {\n",
              "          const element = document.querySelector('#df-bec4e3fd-00b8-4780-a8dc-91243ec89305');\n",
              "          const dataTable =\n",
              "            await google.colab.kernel.invokeFunction('convertToInteractive',\n",
              "                                                     [key], {});\n",
              "          if (!dataTable) return;\n",
              "\n",
              "          const docLinkHtml = 'Like what you see? Visit the ' +\n",
              "            '<a target=\"_blank\" href=https://colab.research.google.com/notebooks/data_table.ipynb>data table notebook</a>'\n",
              "            + ' to learn more about interactive tables.';\n",
              "          element.innerHTML = '';\n",
              "          dataTable['output_type'] = 'display_data';\n",
              "          await google.colab.output.renderOutput(dataTable, element);\n",
              "          const docLink = document.createElement('div');\n",
              "          docLink.innerHTML = docLinkHtml;\n",
              "          element.appendChild(docLink);\n",
              "        }\n",
              "      </script>\n",
              "    </div>\n",
              "  </div>\n",
              "  "
            ]
          },
          "metadata": {},
          "execution_count": 5
        }
      ]
    },
    {
      "cell_type": "code",
      "source": [
        "df.corr()"
      ],
      "metadata": {
        "colab": {
          "base_uri": "https://localhost:8080/",
          "height": 420
        },
        "id": "NQT2A9QXt6vg",
        "outputId": "e884a690-d625-432c-c1e9-5fe13cec04d4"
      },
      "execution_count": 6,
      "outputs": [
        {
          "output_type": "stream",
          "name": "stderr",
          "text": [
            "<ipython-input-6-2f6f6606aa2c>:1: FutureWarning: The default value of numeric_only in DataFrame.corr is deprecated. In a future version, it will default to False. Select only valid columns or specify the value of numeric_only to silence this warning.\n",
            "  df.corr()\n"
          ]
        },
        {
          "output_type": "execute_result",
          "data": {
            "text/plain": [
              "                      number_people  timestamp  day_of_week  is_weekend  \\\n",
              "number_people              1.000000   0.550218    -0.162062   -0.173958   \n",
              "timestamp                  0.550218   1.000000    -0.001793   -0.000509   \n",
              "day_of_week               -0.162062  -0.001793     1.000000    0.791338   \n",
              "is_weekend                -0.173958  -0.000509     0.791338    1.000000   \n",
              "is_holiday                -0.048249   0.002851    -0.075862   -0.031899   \n",
              "temperature                0.373327   0.184849     0.011169    0.020673   \n",
              "is_start_of_semester       0.182683   0.009551    -0.011782   -0.016646   \n",
              "is_during_semester         0.335350   0.044676    -0.004824   -0.036127   \n",
              "month                     -0.097854  -0.023221     0.015559    0.008462   \n",
              "hour                       0.552049   0.999077    -0.001914   -0.000517   \n",
              "\n",
              "                      is_holiday  temperature  is_start_of_semester  \\\n",
              "number_people          -0.048249     0.373327              0.182683   \n",
              "timestamp               0.002851     0.184849              0.009551   \n",
              "day_of_week            -0.075862     0.011169             -0.011782   \n",
              "is_weekend             -0.031899     0.020673             -0.016646   \n",
              "is_holiday              1.000000    -0.088527             -0.014858   \n",
              "temperature            -0.088527     1.000000              0.093242   \n",
              "is_start_of_semester   -0.014858     0.093242              1.000000   \n",
              "is_during_semester     -0.070798     0.152476              0.209862   \n",
              "month                  -0.094942     0.063125             -0.137160   \n",
              "hour                    0.002843     0.185121              0.010091   \n",
              "\n",
              "                      is_during_semester     month      hour  \n",
              "number_people                   0.335350 -0.097854  0.552049  \n",
              "timestamp                       0.044676 -0.023221  0.999077  \n",
              "day_of_week                    -0.004824  0.015559 -0.001914  \n",
              "is_weekend                     -0.036127  0.008462 -0.000517  \n",
              "is_holiday                     -0.070798 -0.094942  0.002843  \n",
              "temperature                     0.152476  0.063125  0.185121  \n",
              "is_start_of_semester            0.209862 -0.137160  0.010091  \n",
              "is_during_semester              1.000000  0.096556  0.045581  \n",
              "month                           0.096556  1.000000 -0.023624  \n",
              "hour                            0.045581 -0.023624  1.000000  "
            ],
            "text/html": [
              "\n",
              "  <div id=\"df-85cb31ad-666e-4de5-87af-0bc9829d20ed\">\n",
              "    <div class=\"colab-df-container\">\n",
              "      <div>\n",
              "<style scoped>\n",
              "    .dataframe tbody tr th:only-of-type {\n",
              "        vertical-align: middle;\n",
              "    }\n",
              "\n",
              "    .dataframe tbody tr th {\n",
              "        vertical-align: top;\n",
              "    }\n",
              "\n",
              "    .dataframe thead th {\n",
              "        text-align: right;\n",
              "    }\n",
              "</style>\n",
              "<table border=\"1\" class=\"dataframe\">\n",
              "  <thead>\n",
              "    <tr style=\"text-align: right;\">\n",
              "      <th></th>\n",
              "      <th>number_people</th>\n",
              "      <th>timestamp</th>\n",
              "      <th>day_of_week</th>\n",
              "      <th>is_weekend</th>\n",
              "      <th>is_holiday</th>\n",
              "      <th>temperature</th>\n",
              "      <th>is_start_of_semester</th>\n",
              "      <th>is_during_semester</th>\n",
              "      <th>month</th>\n",
              "      <th>hour</th>\n",
              "    </tr>\n",
              "  </thead>\n",
              "  <tbody>\n",
              "    <tr>\n",
              "      <th>number_people</th>\n",
              "      <td>1.000000</td>\n",
              "      <td>0.550218</td>\n",
              "      <td>-0.162062</td>\n",
              "      <td>-0.173958</td>\n",
              "      <td>-0.048249</td>\n",
              "      <td>0.373327</td>\n",
              "      <td>0.182683</td>\n",
              "      <td>0.335350</td>\n",
              "      <td>-0.097854</td>\n",
              "      <td>0.552049</td>\n",
              "    </tr>\n",
              "    <tr>\n",
              "      <th>timestamp</th>\n",
              "      <td>0.550218</td>\n",
              "      <td>1.000000</td>\n",
              "      <td>-0.001793</td>\n",
              "      <td>-0.000509</td>\n",
              "      <td>0.002851</td>\n",
              "      <td>0.184849</td>\n",
              "      <td>0.009551</td>\n",
              "      <td>0.044676</td>\n",
              "      <td>-0.023221</td>\n",
              "      <td>0.999077</td>\n",
              "    </tr>\n",
              "    <tr>\n",
              "      <th>day_of_week</th>\n",
              "      <td>-0.162062</td>\n",
              "      <td>-0.001793</td>\n",
              "      <td>1.000000</td>\n",
              "      <td>0.791338</td>\n",
              "      <td>-0.075862</td>\n",
              "      <td>0.011169</td>\n",
              "      <td>-0.011782</td>\n",
              "      <td>-0.004824</td>\n",
              "      <td>0.015559</td>\n",
              "      <td>-0.001914</td>\n",
              "    </tr>\n",
              "    <tr>\n",
              "      <th>is_weekend</th>\n",
              "      <td>-0.173958</td>\n",
              "      <td>-0.000509</td>\n",
              "      <td>0.791338</td>\n",
              "      <td>1.000000</td>\n",
              "      <td>-0.031899</td>\n",
              "      <td>0.020673</td>\n",
              "      <td>-0.016646</td>\n",
              "      <td>-0.036127</td>\n",
              "      <td>0.008462</td>\n",
              "      <td>-0.000517</td>\n",
              "    </tr>\n",
              "    <tr>\n",
              "      <th>is_holiday</th>\n",
              "      <td>-0.048249</td>\n",
              "      <td>0.002851</td>\n",
              "      <td>-0.075862</td>\n",
              "      <td>-0.031899</td>\n",
              "      <td>1.000000</td>\n",
              "      <td>-0.088527</td>\n",
              "      <td>-0.014858</td>\n",
              "      <td>-0.070798</td>\n",
              "      <td>-0.094942</td>\n",
              "      <td>0.002843</td>\n",
              "    </tr>\n",
              "    <tr>\n",
              "      <th>temperature</th>\n",
              "      <td>0.373327</td>\n",
              "      <td>0.184849</td>\n",
              "      <td>0.011169</td>\n",
              "      <td>0.020673</td>\n",
              "      <td>-0.088527</td>\n",
              "      <td>1.000000</td>\n",
              "      <td>0.093242</td>\n",
              "      <td>0.152476</td>\n",
              "      <td>0.063125</td>\n",
              "      <td>0.185121</td>\n",
              "    </tr>\n",
              "    <tr>\n",
              "      <th>is_start_of_semester</th>\n",
              "      <td>0.182683</td>\n",
              "      <td>0.009551</td>\n",
              "      <td>-0.011782</td>\n",
              "      <td>-0.016646</td>\n",
              "      <td>-0.014858</td>\n",
              "      <td>0.093242</td>\n",
              "      <td>1.000000</td>\n",
              "      <td>0.209862</td>\n",
              "      <td>-0.137160</td>\n",
              "      <td>0.010091</td>\n",
              "    </tr>\n",
              "    <tr>\n",
              "      <th>is_during_semester</th>\n",
              "      <td>0.335350</td>\n",
              "      <td>0.044676</td>\n",
              "      <td>-0.004824</td>\n",
              "      <td>-0.036127</td>\n",
              "      <td>-0.070798</td>\n",
              "      <td>0.152476</td>\n",
              "      <td>0.209862</td>\n",
              "      <td>1.000000</td>\n",
              "      <td>0.096556</td>\n",
              "      <td>0.045581</td>\n",
              "    </tr>\n",
              "    <tr>\n",
              "      <th>month</th>\n",
              "      <td>-0.097854</td>\n",
              "      <td>-0.023221</td>\n",
              "      <td>0.015559</td>\n",
              "      <td>0.008462</td>\n",
              "      <td>-0.094942</td>\n",
              "      <td>0.063125</td>\n",
              "      <td>-0.137160</td>\n",
              "      <td>0.096556</td>\n",
              "      <td>1.000000</td>\n",
              "      <td>-0.023624</td>\n",
              "    </tr>\n",
              "    <tr>\n",
              "      <th>hour</th>\n",
              "      <td>0.552049</td>\n",
              "      <td>0.999077</td>\n",
              "      <td>-0.001914</td>\n",
              "      <td>-0.000517</td>\n",
              "      <td>0.002843</td>\n",
              "      <td>0.185121</td>\n",
              "      <td>0.010091</td>\n",
              "      <td>0.045581</td>\n",
              "      <td>-0.023624</td>\n",
              "      <td>1.000000</td>\n",
              "    </tr>\n",
              "  </tbody>\n",
              "</table>\n",
              "</div>\n",
              "      <button class=\"colab-df-convert\" onclick=\"convertToInteractive('df-85cb31ad-666e-4de5-87af-0bc9829d20ed')\"\n",
              "              title=\"Convert this dataframe to an interactive table.\"\n",
              "              style=\"display:none;\">\n",
              "        \n",
              "  <svg xmlns=\"http://www.w3.org/2000/svg\" height=\"24px\"viewBox=\"0 0 24 24\"\n",
              "       width=\"24px\">\n",
              "    <path d=\"M0 0h24v24H0V0z\" fill=\"none\"/>\n",
              "    <path d=\"M18.56 5.44l.94 2.06.94-2.06 2.06-.94-2.06-.94-.94-2.06-.94 2.06-2.06.94zm-11 1L8.5 8.5l.94-2.06 2.06-.94-2.06-.94L8.5 2.5l-.94 2.06-2.06.94zm10 10l.94 2.06.94-2.06 2.06-.94-2.06-.94-.94-2.06-.94 2.06-2.06.94z\"/><path d=\"M17.41 7.96l-1.37-1.37c-.4-.4-.92-.59-1.43-.59-.52 0-1.04.2-1.43.59L10.3 9.45l-7.72 7.72c-.78.78-.78 2.05 0 2.83L4 21.41c.39.39.9.59 1.41.59.51 0 1.02-.2 1.41-.59l7.78-7.78 2.81-2.81c.8-.78.8-2.07 0-2.86zM5.41 20L4 18.59l7.72-7.72 1.47 1.35L5.41 20z\"/>\n",
              "  </svg>\n",
              "      </button>\n",
              "      \n",
              "  <style>\n",
              "    .colab-df-container {\n",
              "      display:flex;\n",
              "      flex-wrap:wrap;\n",
              "      gap: 12px;\n",
              "    }\n",
              "\n",
              "    .colab-df-convert {\n",
              "      background-color: #E8F0FE;\n",
              "      border: none;\n",
              "      border-radius: 50%;\n",
              "      cursor: pointer;\n",
              "      display: none;\n",
              "      fill: #1967D2;\n",
              "      height: 32px;\n",
              "      padding: 0 0 0 0;\n",
              "      width: 32px;\n",
              "    }\n",
              "\n",
              "    .colab-df-convert:hover {\n",
              "      background-color: #E2EBFA;\n",
              "      box-shadow: 0px 1px 2px rgba(60, 64, 67, 0.3), 0px 1px 3px 1px rgba(60, 64, 67, 0.15);\n",
              "      fill: #174EA6;\n",
              "    }\n",
              "\n",
              "    [theme=dark] .colab-df-convert {\n",
              "      background-color: #3B4455;\n",
              "      fill: #D2E3FC;\n",
              "    }\n",
              "\n",
              "    [theme=dark] .colab-df-convert:hover {\n",
              "      background-color: #434B5C;\n",
              "      box-shadow: 0px 1px 3px 1px rgba(0, 0, 0, 0.15);\n",
              "      filter: drop-shadow(0px 1px 2px rgba(0, 0, 0, 0.3));\n",
              "      fill: #FFFFFF;\n",
              "    }\n",
              "  </style>\n",
              "\n",
              "      <script>\n",
              "        const buttonEl =\n",
              "          document.querySelector('#df-85cb31ad-666e-4de5-87af-0bc9829d20ed button.colab-df-convert');\n",
              "        buttonEl.style.display =\n",
              "          google.colab.kernel.accessAllowed ? 'block' : 'none';\n",
              "\n",
              "        async function convertToInteractive(key) {\n",
              "          const element = document.querySelector('#df-85cb31ad-666e-4de5-87af-0bc9829d20ed');\n",
              "          const dataTable =\n",
              "            await google.colab.kernel.invokeFunction('convertToInteractive',\n",
              "                                                     [key], {});\n",
              "          if (!dataTable) return;\n",
              "\n",
              "          const docLinkHtml = 'Like what you see? Visit the ' +\n",
              "            '<a target=\"_blank\" href=https://colab.research.google.com/notebooks/data_table.ipynb>data table notebook</a>'\n",
              "            + ' to learn more about interactive tables.';\n",
              "          element.innerHTML = '';\n",
              "          dataTable['output_type'] = 'display_data';\n",
              "          await google.colab.output.renderOutput(dataTable, element);\n",
              "          const docLink = document.createElement('div');\n",
              "          docLink.innerHTML = docLinkHtml;\n",
              "          element.appendChild(docLink);\n",
              "        }\n",
              "      </script>\n",
              "    </div>\n",
              "  </div>\n",
              "  "
            ]
          },
          "metadata": {},
          "execution_count": 6
        }
      ]
    },
    {
      "cell_type": "code",
      "source": [
        "X = df.iloc[:,2:8]  # all rows, all the features and no labels\n",
        "print(X)\n",
        "y = df.iloc[:, 0]  # all rows, label only"
      ],
      "metadata": {
        "colab": {
          "base_uri": "https://localhost:8080/"
        },
        "id": "EcXh4_llusc2",
        "outputId": "c2d5f5d5-5430-45ff-c36a-88fa4263058d"
      },
      "execution_count": 30,
      "outputs": [
        {
          "output_type": "stream",
          "name": "stdout",
          "text": [
            "       timestamp  day_of_week  is_weekend  is_holiday  temperature  \\\n",
            "0          61211            4           0           0        71.76   \n",
            "1          62414            4           0           0        71.76   \n",
            "2          63015            4           0           0        71.76   \n",
            "3          63616            4           0           0        71.76   \n",
            "4          64217            4           0           0        71.76   \n",
            "...          ...          ...         ...         ...          ...   \n",
            "62179      67348            5           1           0        61.07   \n",
            "62180      67955            5           1           0        61.07   \n",
            "62181      68560            5           1           0        56.71   \n",
            "62182      69167            5           1           0        56.71   \n",
            "62183      69771            5           1           0        56.71   \n",
            "\n",
            "       is_start_of_semester  \n",
            "0                         0  \n",
            "1                         0  \n",
            "2                         0  \n",
            "3                         0  \n",
            "4                         0  \n",
            "...                     ...  \n",
            "62179                     0  \n",
            "62180                     0  \n",
            "62181                     0  \n",
            "62182                     0  \n",
            "62183                     0  \n",
            "\n",
            "[62184 rows x 6 columns]\n"
          ]
        }
      ]
    },
    {
      "cell_type": "code",
      "source": [
        "from sklearn.preprocessing import StandardScaler\n",
        "scaler = StandardScaler()\n",
        "X=scaler.fit_transform(X)\n",
        "X"
      ],
      "metadata": {
        "colab": {
          "base_uri": "https://localhost:8080/"
        },
        "id": "oGITCtK-uAsz",
        "outputId": "fe78cbcf-b3d8-4a16-f6fc-37e6fb4d59b4"
      },
      "execution_count": 31,
      "outputs": [
        {
          "output_type": "execute_result",
          "data": {
            "text/plain": [
              "array([[ 0.63654993,  0.50956119, -0.6280507 , -0.05079022,  2.09027384,\n",
              "        -0.29253482],\n",
              "       [ 0.68623792,  0.50956119, -0.6280507 , -0.05079022,  2.09027384,\n",
              "        -0.29253482],\n",
              "       [ 0.71106127,  0.50956119, -0.6280507 , -0.05079022,  2.09027384,\n",
              "        -0.29253482],\n",
              "       ...,\n",
              "       [ 0.94008862,  1.01036016,  1.59222814, -0.05079022, -0.292433  ,\n",
              "        -0.29253482],\n",
              "       [ 0.96515979,  1.01036016,  1.59222814, -0.05079022, -0.292433  ,\n",
              "        -0.29253482],\n",
              "       [ 0.99010704,  1.01036016,  1.59222814, -0.05079022, -0.292433  ,\n",
              "        -0.29253482]])"
            ]
          },
          "metadata": {},
          "execution_count": 31
        }
      ]
    },
    {
      "cell_type": "code",
      "source": [
        "from sklearn.decomposition import PCA\n",
        "pca = PCA()\n",
        "pca.fit_transform(X)"
      ],
      "metadata": {
        "colab": {
          "base_uri": "https://localhost:8080/"
        },
        "id": "xOiGKea3u_C_",
        "outputId": "1a664002-0dc8-4c18-b444-e3ee91eb3225"
      },
      "execution_count": 32,
      "outputs": [
        {
          "output_type": "execute_result",
          "data": {
            "text/plain": [
              "array([[-0.01221225, -1.74827045,  0.50960639, -0.41110148,  1.15793497,\n",
              "         0.83101258],\n",
              "       [-0.01252094, -1.77681605,  0.53746942, -0.41502514,  1.12857183,\n",
              "         0.83090197],\n",
              "       [-0.01267515, -1.79107699,  0.55138936, -0.41698533,  1.11390247,\n",
              "         0.8308467 ],\n",
              "       ...,\n",
              "       [-1.83407039, -0.15801062,  0.73716585, -0.15999954, -0.69546787,\n",
              "        -0.41471388],\n",
              "       [-1.83422615, -0.17241393,  0.75122475, -0.16197931, -0.71028368,\n",
              "        -0.41476969],\n",
              "       [-1.83438114, -0.18674606,  0.76521417, -0.16394929, -0.72502627,\n",
              "        -0.41482523]])"
            ]
          },
          "metadata": {},
          "execution_count": 32
        }
      ]
    },
    {
      "cell_type": "code",
      "source": [
        "pca.get_covariance()"
      ],
      "metadata": {
        "colab": {
          "base_uri": "https://localhost:8080/"
        },
        "id": "hz1dyL35vFud",
        "outputId": "33f7cb74-461d-45ba-99de-f57ee93225d9"
      },
      "execution_count": 33,
      "outputs": [
        {
          "output_type": "execute_result",
          "data": {
            "text/plain": [
              "array([[ 1.00001608e+00, -1.79321968e-03, -5.08815704e-04,\n",
              "         2.85078360e-03,  1.84852463e-01,  9.55105884e-03],\n",
              "       [-1.79321968e-03,  1.00001608e+00,  7.91350923e-01,\n",
              "        -7.58632581e-02,  1.11689106e-02, -1.17822146e-02],\n",
              "       [-5.08815704e-04,  7.91350923e-01,  1.00001608e+00,\n",
              "        -3.18993471e-02,  2.06736733e-02, -1.66460432e-02],\n",
              "       [ 2.85078360e-03, -7.58632581e-02, -3.18993471e-02,\n",
              "         1.00001608e+00, -8.85280154e-02, -1.48581472e-02],\n",
              "       [ 1.84852463e-01,  1.11689106e-02,  2.06736733e-02,\n",
              "        -8.85280154e-02,  1.00001608e+00,  9.32433629e-02],\n",
              "       [ 9.55105884e-03, -1.17822146e-02, -1.66460432e-02,\n",
              "        -1.48581472e-02,  9.32433629e-02,  1.00001608e+00]])"
            ]
          },
          "metadata": {},
          "execution_count": 33
        }
      ]
    },
    {
      "cell_type": "code",
      "source": [
        "explained_variance=pca.explained_variance_ratio_\n",
        "explained_variance"
      ],
      "metadata": {
        "colab": {
          "base_uri": "https://localhost:8080/"
        },
        "id": "_clp2sQCvMyf",
        "outputId": "413d6e9e-f8d2-4f3e-db2c-6ca6ad02aaa4"
      },
      "execution_count": 34,
      "outputs": [
        {
          "output_type": "execute_result",
          "data": {
            "text/plain": [
              "array([0.30002086, 0.20478764, 0.16750837, 0.16320645, 0.1299299 ,\n",
              "       0.03454679])"
            ]
          },
          "metadata": {},
          "execution_count": 34
        }
      ]
    },
    {
      "cell_type": "code",
      "source": [
        "with plt.style.context('dark_background'):\n",
        "    plt.figure(figsize=(6, 4))\n",
        "\n",
        "    plt.bar(range(6), explained_variance, alpha=0.5, align='center',\n",
        "            label='individual explained variance')\n",
        "    plt.ylabel('Explained variance ratio')\n",
        "    plt.xlabel('Principal components')\n",
        "    plt.legend(loc='best')\n",
        "    plt.tight_layout()"
      ],
      "metadata": {
        "colab": {
          "base_uri": "https://localhost:8080/",
          "height": 407
        },
        "id": "WeRCXoa3vQdi",
        "outputId": "27f08a65-30da-4ab6-a8af-5548c18d199f"
      },
      "execution_count": 35,
      "outputs": [
        {
          "output_type": "display_data",
          "data": {
            "text/plain": [
              "<Figure size 600x400 with 1 Axes>"
            ],
            "image/png": "[encoded data removed]"
          },
          "metadata": {}
        }
      ]
    },
    {
      "cell_type": "code",
      "source": [
        "pca=PCA(n_components=5)\n",
        "X_new=pca.fit_transform(X)\n",
        "X_new"
      ],
      "metadata": {
        "colab": {
          "base_uri": "https://localhost:8080/"
        },
        "id": "OSGuEUMdvdDO",
        "outputId": "fa692ce9-db4c-409a-8aac-f1314a3d3901"
      },
      "execution_count": 36,
      "outputs": [
        {
          "output_type": "execute_result",
          "data": {
            "text/plain": [
              "array([[-0.01221225, -1.74827045,  0.50960639, -0.41110148,  1.15793497],\n",
              "       [-0.01252094, -1.77681605,  0.53746942, -0.41502514,  1.12857183],\n",
              "       [-0.01267515, -1.79107699,  0.55138936, -0.41698533,  1.11390247],\n",
              "       ...,\n",
              "       [-1.83407039, -0.15801062,  0.73716585, -0.15999954, -0.69546787],\n",
              "       [-1.83422615, -0.17241393,  0.75122475, -0.16197931, -0.71028368],\n",
              "       [-1.83438114, -0.18674606,  0.76521417, -0.16394929, -0.72502627]])"
            ]
          },
          "metadata": {},
          "execution_count": 36
        }
      ]
    },
    {
      "cell_type": "code",
      "source": [
        "explained_variance=pca.explained_variance_ratio_\n",
        "explained_variance"
      ],
      "metadata": {
        "colab": {
          "base_uri": "https://localhost:8080/"
        },
        "id": "jKJTwGk5vh5f",
        "outputId": "5b08ed26-62f2-4a08-b9d6-b1e23726a1ac"
      },
      "execution_count": 37,
      "outputs": [
        {
          "output_type": "execute_result",
          "data": {
            "text/plain": [
              "array([0.30002086, 0.20478764, 0.16750837, 0.16320645, 0.1299299 ])"
            ]
          },
          "metadata": {},
          "execution_count": 37
        }
      ]
    },
    {
      "cell_type": "code",
      "source": [
        "with plt.style.context('dark_background'):\n",
        "    plt.figure(figsize=(6, 4))\n",
        "\n",
        "    plt.bar(range(5), explained_variance, alpha=0.5, align='center',\n",
        "            label='individual explained variance')\n",
        "    plt.ylabel('Explained variance ratio')\n",
        "    plt.xlabel('Principal components')\n",
        "    plt.legend(loc='best')\n",
        "    plt.tight_layout()"
      ],
      "metadata": {
        "colab": {
          "base_uri": "https://localhost:8080/",
          "height": 407
        },
        "id": "k4lPlVSKvlXF",
        "outputId": "7c4240a8-a7b3-4aba-bce6-046c26b2cc58"
      },
      "execution_count": 38,
      "outputs": [
        {
          "output_type": "display_data",
          "data": {
            "text/plain": [
              "<Figure size 600x400 with 1 Axes>"
            ],
            "image/png": "[encoded data removed]"
          },
          "metadata": {}
        }
      ]
    },
    {
      "cell_type": "code",
      "source": [
        "from sklearn.model_selection import train_test_split\n",
        "X_train, X_test, y_train, y_test = train_test_split(X, y, test_size=0.2, random_state=1)\n",
        "X_train.shape"
      ],
      "metadata": {
        "colab": {
          "base_uri": "https://localhost:8080/"
        },
        "id": "SYvgSLJPvsEr",
        "outputId": "023ee85f-766c-4f46-d2c9-7ebccefa34fe"
      },
      "execution_count": 39,
      "outputs": [
        {
          "output_type": "execute_result",
          "data": {
            "text/plain": [
              "(49747, 6)"
            ]
          },
          "metadata": {},
          "execution_count": 39
        }
      ]
    },
    {
      "cell_type": "code",
      "source": [
        "from sklearn.ensemble import RandomForestRegressor\n",
        "model = RandomForestRegressor()"
      ],
      "metadata": {
        "id": "gipypmcevvOz"
      },
      "execution_count": 40,
      "outputs": []
    },
    {
      "cell_type": "code",
      "source": [
        "Rest of the model"
      ],
      "metadata": {
        "id": "InOOzxJcvysM"
      },
      "execution_count": 42,
      "outputs": []
    }
  ]
}